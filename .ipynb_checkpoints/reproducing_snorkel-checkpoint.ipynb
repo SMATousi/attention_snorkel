{
 "cells": [
  {
   "cell_type": "code",
   "execution_count": 1,
   "id": "14db7f0a",
   "metadata": {},
   "outputs": [],
   "source": [
    "import numpy as np\n",
    "from sklearn.datasets import make_classification\n",
    "import matplotlib.pyplot as plt\n",
    "import torch\n",
    "from tqdm import tqdm\n",
    "import torch.nn as nn\n",
    "from torch.utils.data import Dataset, DataLoader\n",
    "from torchvision import transforms\n",
    "from tensordict.tensordict import TensorDict\n",
    "import sys\n",
    "import wandb"
   ]
  },
  {
   "cell_type": "markdown",
   "id": "f056d359",
   "metadata": {},
   "source": [
    "# Creating Data"
   ]
  },
  {
   "cell_type": "code",
   "execution_count": 2,
   "id": "b056c549",
   "metadata": {},
   "outputs": [],
   "source": [
    "\n",
    "np.random.seed(42)\n",
    "\n",
    "\n",
    "X, y = make_classification(n_samples=200000, n_features=3, n_informative=3, n_redundant=0,\n",
    "                           n_clusters_per_class=1, weights=[0.5, 0.5], flip_y=0.05, class_sep=1.5)\n",
    "y = 2*y - 1\n",
    "\n",
    "# fig = plt.figure(figsize=(8, 6))\n",
    "# ax = fig.add_subplot(111, projection='3d')\n",
    "\n",
    "\n",
    "# ax.scatter(X[y == -1][:, 0], X[y == -1][:, 1], X[y == -1][:, 2], c='b', marker='o', label='Class -1')\n",
    "# ax.scatter(X[y == 1][:, 0], X[y == 1][:, 1], X[y == 1][:, 2], c='r', marker='^', label='Class 1')\n",
    "\n",
    "# ax.set_xlabel('Feature 1')\n",
    "# ax.set_ylabel('Feature 2')\n",
    "# ax.set_zlabel('Feature 3')\n",
    "# ax.set_title('3D Scatter Plot of Synthetic Data')\n",
    "# ax.legend()\n",
    "\n",
    "# plt.show()"
   ]
  },
  {
   "cell_type": "markdown",
   "id": "85a4bdb8",
   "metadata": {},
   "source": [
    "# LFs generator"
   ]
  },
  {
   "cell_type": "code",
   "execution_count": 3,
   "id": "1203ae7f",
   "metadata": {},
   "outputs": [],
   "source": [
    "def random_label_flip_and_zero(arr, m, n_list, zero_n_list):\n",
    "\n",
    "    if len(n_list) != m or len(zero_n_list) != m:\n",
    "        raise ValueError(\"The length of n_list and zero_n_list must be equal to m.\")\n",
    "    \n",
    "    length = len(arr)\n",
    "    flipped_arrays = []\n",
    "\n",
    "    for i in range(m):\n",
    "        n = n_list[i]\n",
    "        zero_n = zero_n_list[i]\n",
    "\n",
    "        # Randomly select indices to flip\n",
    "        indices_to_zero = np.random.choice(length, zero_n, replace=False)\n",
    "\n",
    "        # Create a copy of the array to flip the labels\n",
    "        modified_arr = arr.copy()\n",
    "        modified_arr[indices_to_zero] = 0\n",
    "\n",
    "        # Identify the untouched indices\n",
    "        untouched_indices = np.setdiff1d(np.arange(length), indices_to_zero)\n",
    "\n",
    "        # Randomly select indices from the untouched indices to set to 0\n",
    "        indices_to_flip = np.random.choice(untouched_indices, n, replace=False)\n",
    "\n",
    "        # Set the chosen indices to 0\n",
    "        modified_arr[indices_to_flip] = -modified_arr[indices_to_flip]\n",
    "\n",
    "        flipped_arrays.append(modified_arr)\n",
    "\n",
    "    return flipped_arrays"
   ]
  },
  {
   "cell_type": "code",
   "execution_count": 11,
   "id": "e0804db0",
   "metadata": {},
   "outputs": [],
   "source": [
    "arr = y\n",
    "\n",
    "# m = 5  \n",
    "\n",
    "\n",
    "# beta_list = [0.75 for i in range(m)]\n",
    "# zero_n_list = [int((1 - beta)* y.shape[0]) for beta in beta_list]  \n",
    "\n",
    "# alpha_list = [0.4 for i in range(m)]\n",
    "# n_list = [int((1-alpha)*(y.shape[0] - zero_n_list[i])) for i, alpha in enumerate(alpha_list)] \n",
    "\n",
    "m = 5\n",
    "beta_list = [0.35, 0.79, 0.42, 0.46, 0.9]\n",
    "zero_n_list = [int((1 - beta)* y.shape[0]) for beta in beta_list]  \n",
    "\n",
    "alpha_list = [0.41, 0.32, 0.74, 0.96, 0.55]\n",
    "n_list = [int((1-alpha)*(y.shape[0] - zero_n_list[i])) for i, alpha in enumerate(alpha_list)] \n",
    "\n",
    "# print(n_list)\n",
    "\n",
    "flipped_arrays = random_label_flip_and_zero(arr, m, n_list, zero_n_list)\n",
    "\n",
    "\n",
    "# print(\"Original = \", arr)\n",
    "ALL_LFs = {}\n",
    "\n",
    "for i, modified_arr in enumerate(flipped_arrays):\n",
    "#     print(f\"Array {i+1}:\")\n",
    "#     print(modified_arr-arr)\n",
    "    lf_dict = {}\n",
    "    \n",
    "    lf_dict['alpha'] = 1 - (n_list[i]/(len(y) - zero_n_list[i]))\n",
    "    lf_dict['beta'] = 1 - (zero_n_list[i]/len(y))\n",
    "    \n",
    "    lf_dict['outputs'] = modified_arr\n",
    "    \n",
    "    ALL_LFs[i] = lf_dict"
   ]
  },
  {
   "cell_type": "code",
   "execution_count": 12,
   "id": "866b05fe",
   "metadata": {},
   "outputs": [
    {
     "data": {
      "text/plain": [
       "{0: {'alpha': 0.41000000000000003,\n",
       "  'beta': 0.35,\n",
       "  'outputs': array([ 1,  0,  0, ..., -1,  0,  1])},\n",
       " 1: {'alpha': 0.32000430377022926,\n",
       "  'beta': 0.7900050000000001,\n",
       "  'outputs': array([ 1, -1,  1, ..., -1, -1,  0])},\n",
       " 2: {'alpha': 0.74,\n",
       "  'beta': 0.42000000000000004,\n",
       "  'outputs': array([0, 1, 0, ..., 0, 1, 0])},\n",
       " 3: {'alpha': 0.96,\n",
       "  'beta': 0.45999999999999996,\n",
       "  'outputs': array([ 1,  0,  1, ...,  0,  0, -1])},\n",
       " 4: {'alpha': 0.5500024999861112,\n",
       "  'beta': 0.9000049999999999,\n",
       "  'outputs': array([ 1, -1,  1, ...,  1,  1,  1])}}"
      ]
     },
     "execution_count": 12,
     "metadata": {},
     "output_type": "execute_result"
    }
   ],
   "source": [
    "ALL_LFs"
   ]
  },
  {
   "cell_type": "markdown",
   "id": "630f4a5a",
   "metadata": {},
   "source": [
    "# Expected Value for alpha and beta"
   ]
  },
  {
   "cell_type": "code",
   "execution_count": 13,
   "id": "08b765b5",
   "metadata": {},
   "outputs": [
    {
     "name": "stdout",
     "output_type": "stream",
     "text": [
      "minimum cardinality =  100157.42151665727\n",
      "current cardinality =  200000\n",
      "Check!\n"
     ]
    }
   ],
   "source": [
    "m = 5\n",
    "epsilon = 0.1\n",
    "s_cardinality = len(y)\n",
    "\n",
    "minimum_cardinality = (356/(epsilon)**2) * np.log(m/(3*epsilon))\n",
    "\n",
    "print(\"minimum cardinality = \", minimum_cardinality)\n",
    "print(\"current cardinality = \", s_cardinality)\n",
    "if s_cardinality > minimum_cardinality:\n",
    "    print(\"Check!\")\n",
    "else:\n",
    "    print(\"More data needed ...\")"
   ]
  },
  {
   "cell_type": "markdown",
   "id": "880b4da9",
   "metadata": {},
   "source": [
    "# Label Model"
   ]
  },
  {
   "cell_type": "code",
   "execution_count": 7,
   "id": "4504a04f",
   "metadata": {},
   "outputs": [],
   "source": [
    "# initializing\n",
    "\n",
    "Alpha_Beta_numpy = np.random.rand(m,2)\n",
    "Alpha_Beta = torch.tensor(Alpha_Beta_numpy, requires_grad=True)\n",
    "\n",
    "class LabelModel(nn.Module):\n",
    "    def __init__(self):\n",
    "        super(LabelModel, self).__init__()\n",
    "#         self.sigmoid = torch.sigmoid()\n",
    "        Alpha_Beta_numpy = np.random.rand(m,2)\n",
    "        self.alpha_beta_array = nn.Parameter(torch.tensor(Alpha_Beta_numpy, requires_grad=True))\n",
    "        \n",
    "    def forward(self, lf_label, true_label):\n",
    "        \n",
    "        all_lf_probls = 1\n",
    "        \n",
    "        for lf_index in range(self.alpha_beta_array.shape[0]):\n",
    "            \n",
    "            lf_alpha = torch.sigmoid(self.alpha_beta_array[lf_index,0])\n",
    "            lf_beta = torch.sigmoid(self.alpha_beta_array[lf_index,1])\n",
    "            \n",
    "            if lf_label[lf_index] == true_label:\n",
    "                \n",
    "                lf_prob = lf_alpha * lf_beta\n",
    "            \n",
    "            if lf_label[lf_index] == -true_label:\n",
    "                \n",
    "                lf_prob = (1 - lf_alpha) * lf_beta\n",
    "            \n",
    "            if lf_label[lf_index] == 0:\n",
    "                \n",
    "                lf_prob = 1 - lf_beta\n",
    "        \n",
    "            all_lf_probls = all_lf_probls * lf_prob\n",
    "        \n",
    "        \n",
    "        return 0.5 * all_lf_probls"
   ]
  },
  {
   "cell_type": "code",
   "execution_count": null,
   "id": "518212eb",
   "metadata": {},
   "outputs": [],
   "source": []
  },
  {
   "cell_type": "code",
   "execution_count": null,
   "id": "0564ae57",
   "metadata": {},
   "outputs": [],
   "source": []
  },
  {
   "cell_type": "markdown",
   "id": "7a8b1d47",
   "metadata": {},
   "source": [
    "# Data Loader"
   ]
  },
  {
   "cell_type": "code",
   "execution_count": 8,
   "id": "7d4500b9",
   "metadata": {},
   "outputs": [],
   "source": [
    "class LF_Output_Dataset(Dataset):\n",
    "    def __init__(self, ALL_LFs, X):\n",
    "        \n",
    "        self.ALL_LFs = ALL_LFs\n",
    "        self.X = X\n",
    "\n",
    "\n",
    "    def __len__(self):\n",
    "        return len(self.X)\n",
    "\n",
    "    def __getitem__(self, idx):\n",
    "        \n",
    "        data_sample = self.X[idx]\n",
    "        lf_outputs = []\n",
    "        \n",
    "        for key in self.ALL_LFs.keys():\n",
    "            \n",
    "            lf_outputs.append(self.ALL_LFs[key]['outputs'][idx])\n",
    "        \n",
    "        return data_sample, lf_outputs\n"
   ]
  },
  {
   "cell_type": "code",
   "execution_count": 14,
   "id": "e0cafe45",
   "metadata": {},
   "outputs": [],
   "source": [
    "dataset = LF_Output_Dataset(ALL_LFs, X)\n",
    "data_loader = DataLoader(dataset, batch_size=1, shuffle=False, num_workers=0)\n"
   ]
  },
  {
   "cell_type": "code",
   "execution_count": null,
   "id": "767f11f5",
   "metadata": {},
   "outputs": [],
   "source": []
  },
  {
   "cell_type": "markdown",
   "id": "27393e7d",
   "metadata": {},
   "source": [
    "# Training Loop"
   ]
  },
  {
   "cell_type": "code",
   "execution_count": null,
   "id": "806c7d6f",
   "metadata": {},
   "outputs": [],
   "source": []
  },
  {
   "cell_type": "code",
   "execution_count": 15,
   "id": "28bc6d5e",
   "metadata": {},
   "outputs": [
    {
     "data": {
      "text/html": [
       "Finishing last run (ID:sb540kyt) before initializing another..."
      ],
      "text/plain": [
       "<IPython.core.display.HTML object>"
      ]
     },
     "metadata": {},
     "output_type": "display_data"
    },
    {
     "data": {
      "text/html": [
       "Waiting for W&B process to finish... <strong style=\"color:green\">(success).</strong>"
      ],
      "text/plain": [
       "<IPython.core.display.HTML object>"
      ]
     },
     "metadata": {},
     "output_type": "display_data"
    },
    {
     "data": {
      "text/html": [
       "<style>\n",
       "    table.wandb td:nth-child(1) { padding: 0 10px; text-align: left ; width: auto;} td:nth-child(2) {text-align: left ; width: 100%}\n",
       "    .wandb-row { display: flex; flex-direction: row; flex-wrap: wrap; justify-content: flex-start; width: 100% }\n",
       "    .wandb-col { display: flex; flex-direction: column; flex-basis: 100%; flex: 1; padding: 10px; }\n",
       "    </style>\n",
       "<div class=\"wandb-row\"><div class=\"wandb-col\"><h3>Run history:</h3><br/><table class=\"wandb\"><tr><td>Params/tensor_0_0</td><td>▁▂▂▃▃▃▄▅▅▅▅▆▆▆▆▇▇▇▇▇▇▇▇▇████████████████</td></tr><tr><td>Params/tensor_0_1</td><td>█▅▃▂▂▁▁▁▁▁▁▁▁▁▁▁▁▁▁▁▁▁▁▁▁▁▁▁▁▁▁▁▁▁▁▁▁▁▁▁</td></tr><tr><td>Params/tensor_1_0</td><td>▁▂▂▃▃▄▄▅▅▅▆▆▆▆▇▇▇▇▇▇▇▇▇█████████████████</td></tr><tr><td>Params/tensor_1_1</td><td>█▅▃▂▁▁▁▁▁▁▁▁▁▁▁▁▁▁▁▁▁▁▁▁▁▁▁▁▁▁▁▁▁▁▁▁▁▁▁▁</td></tr><tr><td>Params/tensor_2_0</td><td>▁▂▂▃▃▄▄▅▅▅▆▆▆▆▇▇▇▇▇▇▇▇▇█████████████████</td></tr><tr><td>Params/tensor_2_1</td><td>█▅▃▂▁▁▁▁▁▁▁▁▁▁▁▁▁▁▁▁▁▁▁▁▁▁▁▁▁▁▁▁▁▁▁▁▁▁▁▁</td></tr><tr><td>Params/tensor_3_0</td><td>▁▂▂▃▃▄▄▅▅▅▆▆▆▆▇▇▇▇▇▇▇▇▇█████████████████</td></tr><tr><td>Params/tensor_3_1</td><td>█▅▃▂▁▁▁▁▁▁▁▁▁▁▁▁▁▁▁▁▁▁▁▁▁▁▁▁▁▁▁▁▁▁▁▁▁▁▁▁</td></tr><tr><td>Params/tensor_4_0</td><td>▁▂▂▃▃▄▄▅▅▅▅▆▆▆▆▆▇▇▇▇▇▇▇▇▇▇██████████████</td></tr><tr><td>Params/tensor_4_1</td><td>█▅▃▂▁▁▁▁▁▁▁▁▁▁▁▁▁▁▁▁▁▁▁▁▁▁▁▁▁▁▁▁▁▁▁▁▁▁▁▁</td></tr><tr><td>Prob/Prob</td><td>▁▅▇▇▇▇██████████████████████████████████</td></tr></table><br/></div><div class=\"wandb-col\"><h3>Run summary:</h3><br/><table class=\"wandb\"><tr><td>Params/tensor_0_0</td><td>0.80323</td></tr><tr><td>Params/tensor_0_1</td><td>0.35</td></tr><tr><td>Params/tensor_1_0</td><td>0.81773</td></tr><tr><td>Params/tensor_1_1</td><td>0.39</td></tr><tr><td>Params/tensor_2_0</td><td>0.83861</td></tr><tr><td>Params/tensor_2_1</td><td>0.42</td></tr><tr><td>Params/tensor_3_0</td><td>0.86042</td></tr><tr><td>Params/tensor_3_1</td><td>0.46</td></tr><tr><td>Params/tensor_4_0</td><td>0.88968</td></tr><tr><td>Params/tensor_4_1</td><td>0.5</td></tr><tr><td>Prob/Prob</td><td>-934450.56027</td></tr></table><br/></div></div>"
      ],
      "text/plain": [
       "<IPython.core.display.HTML object>"
      ]
     },
     "metadata": {},
     "output_type": "display_data"
    },
    {
     "data": {
      "text/html": [
       " View run <strong style=\"color:#cdcd00\">Data-200k-epochs-1000-m-5-alpham-betam-lre-5</strong> at: <a href='https://wandb.ai/tousi-team/Snorkel-Repro/runs/sb540kyt' target=\"_blank\">https://wandb.ai/tousi-team/Snorkel-Repro/runs/sb540kyt</a><br/>Synced 6 W&B file(s), 0 media file(s), 2 artifact file(s) and 0 other file(s)"
      ],
      "text/plain": [
       "<IPython.core.display.HTML object>"
      ]
     },
     "metadata": {},
     "output_type": "display_data"
    },
    {
     "data": {
      "text/html": [
       "Find logs at: <code>./wandb/run-20240625_134509-sb540kyt/logs</code>"
      ],
      "text/plain": [
       "<IPython.core.display.HTML object>"
      ]
     },
     "metadata": {},
     "output_type": "display_data"
    },
    {
     "data": {
      "text/html": [
       "Successfully finished last run (ID:sb540kyt). Initializing new run:<br/>"
      ],
      "text/plain": [
       "<IPython.core.display.HTML object>"
      ]
     },
     "metadata": {},
     "output_type": "display_data"
    },
    {
     "data": {
      "text/html": [
       "wandb version 0.17.3 is available!  To upgrade, please run:\n",
       " $ pip install wandb --upgrade"
      ],
      "text/plain": [
       "<IPython.core.display.HTML object>"
      ]
     },
     "metadata": {},
     "output_type": "display_data"
    },
    {
     "data": {
      "text/html": [
       "Tracking run with wandb version 0.15.4"
      ],
      "text/plain": [
       "<IPython.core.display.HTML object>"
      ]
     },
     "metadata": {},
     "output_type": "display_data"
    },
    {
     "data": {
      "text/html": [
       "Run data is saved locally in <code>/home/macula/SMATousi/snorkel/attention_snorkel/wandb/run-20240625_151459-82men3l1</code>"
      ],
      "text/plain": [
       "<IPython.core.display.HTML object>"
      ]
     },
     "metadata": {},
     "output_type": "display_data"
    },
    {
     "data": {
      "text/html": [
       "Syncing run <strong><a href='https://wandb.ai/tousi-team/Snorkel-Repro/runs/82men3l1' target=\"_blank\">Data-200k-epochs-1000-m-5-alpham-betam-off-lre-5</a></strong> to <a href='https://wandb.ai/tousi-team/Snorkel-Repro' target=\"_blank\">Weights & Biases</a> (<a href='https://wandb.me/run' target=\"_blank\">docs</a>)<br/>"
      ],
      "text/plain": [
       "<IPython.core.display.HTML object>"
      ]
     },
     "metadata": {},
     "output_type": "display_data"
    },
    {
     "data": {
      "text/html": [
       " View project at <a href='https://wandb.ai/tousi-team/Snorkel-Repro' target=\"_blank\">https://wandb.ai/tousi-team/Snorkel-Repro</a>"
      ],
      "text/plain": [
       "<IPython.core.display.HTML object>"
      ]
     },
     "metadata": {},
     "output_type": "display_data"
    },
    {
     "data": {
      "text/html": [
       " View run at <a href='https://wandb.ai/tousi-team/Snorkel-Repro/runs/82men3l1' target=\"_blank\">https://wandb.ai/tousi-team/Snorkel-Repro/runs/82men3l1</a>"
      ],
      "text/plain": [
       "<IPython.core.display.HTML object>"
      ]
     },
     "metadata": {},
     "output_type": "display_data"
    },
    {
     "name": "stderr",
     "output_type": "stream",
     "text": [
      "100%|██████████████████████████████████████████████████████████████████████████████████████████████████| 200000/200000 [00:53<00:00, 3763.93it/s]\n"
     ]
    },
    {
     "name": "stdout",
     "output_type": "stream",
     "text": [
      "Epoch 0: Loss = -1150523.4053418958\n"
     ]
    },
    {
     "name": "stderr",
     "output_type": "stream",
     "text": [
      "100%|██████████████████████████████████████████████████████████████████████████████████████████████████| 200000/200000 [00:51<00:00, 3910.42it/s]\n"
     ]
    },
    {
     "name": "stdout",
     "output_type": "stream",
     "text": [
      "Epoch 1: Loss = -1032490.8771047895\n"
     ]
    },
    {
     "name": "stderr",
     "output_type": "stream",
     "text": [
      "100%|██████████████████████████████████████████████████████████████████████████████████████████████████| 200000/200000 [00:50<00:00, 3943.92it/s]\n"
     ]
    },
    {
     "name": "stdout",
     "output_type": "stream",
     "text": [
      "Epoch 2: Loss = -997085.9622487251\n"
     ]
    },
    {
     "name": "stderr",
     "output_type": "stream",
     "text": [
      "100%|██████████████████████████████████████████████████████████████████████████████████████████████████| 200000/200000 [00:50<00:00, 3992.62it/s]\n"
     ]
    },
    {
     "name": "stdout",
     "output_type": "stream",
     "text": [
      "Epoch 3: Loss = -985456.9470622835\n"
     ]
    },
    {
     "name": "stderr",
     "output_type": "stream",
     "text": [
      "100%|██████████████████████████████████████████████████████████████████████████████████████████████████| 200000/200000 [00:49<00:00, 4061.87it/s]\n"
     ]
    },
    {
     "name": "stdout",
     "output_type": "stream",
     "text": [
      "Epoch 4: Loss = -980753.5136426112\n"
     ]
    },
    {
     "name": "stderr",
     "output_type": "stream",
     "text": [
      "100%|██████████████████████████████████████████████████████████████████████████████████████████████████| 200000/200000 [00:49<00:00, 4075.88it/s]\n"
     ]
    },
    {
     "name": "stdout",
     "output_type": "stream",
     "text": [
      "Epoch 5: Loss = -978363.5869820074\n"
     ]
    },
    {
     "name": "stderr",
     "output_type": "stream",
     "text": [
      "100%|██████████████████████████████████████████████████████████████████████████████████████████████████| 200000/200000 [00:49<00:00, 4078.36it/s]\n"
     ]
    },
    {
     "name": "stdout",
     "output_type": "stream",
     "text": [
      "Epoch 6: Loss = -976878.327148268\n"
     ]
    },
    {
     "name": "stderr",
     "output_type": "stream",
     "text": [
      "100%|██████████████████████████████████████████████████████████████████████████████████████████████████| 200000/200000 [00:49<00:00, 4052.90it/s]\n"
     ]
    },
    {
     "name": "stdout",
     "output_type": "stream",
     "text": [
      "Epoch 7: Loss = -975803.0717488389\n"
     ]
    },
    {
     "name": "stderr",
     "output_type": "stream",
     "text": [
      "100%|██████████████████████████████████████████████████████████████████████████████████████████████████| 200000/200000 [00:48<00:00, 4104.94it/s]\n"
     ]
    },
    {
     "name": "stdout",
     "output_type": "stream",
     "text": [
      "Epoch 8: Loss = -974938.9319692999\n"
     ]
    },
    {
     "name": "stderr",
     "output_type": "stream",
     "text": [
      "100%|██████████████████████████████████████████████████████████████████████████████████████████████████| 200000/200000 [00:48<00:00, 4123.10it/s]\n"
     ]
    },
    {
     "name": "stdout",
     "output_type": "stream",
     "text": [
      "Epoch 9: Loss = -974196.2085153805\n"
     ]
    },
    {
     "name": "stderr",
     "output_type": "stream",
     "text": [
      "100%|██████████████████████████████████████████████████████████████████████████████████████████████████| 200000/200000 [00:48<00:00, 4083.29it/s]\n"
     ]
    },
    {
     "name": "stdout",
     "output_type": "stream",
     "text": [
      "Epoch 10: Loss = -973531.1238427508\n"
     ]
    },
    {
     "name": "stderr",
     "output_type": "stream",
     "text": [
      "100%|██████████████████████████████████████████████████████████████████████████████████████████████████| 200000/200000 [00:49<00:00, 4058.18it/s]\n"
     ]
    },
    {
     "name": "stdout",
     "output_type": "stream",
     "text": [
      "Epoch 11: Loss = -972921.5568746283\n"
     ]
    },
    {
     "name": "stderr",
     "output_type": "stream",
     "text": [
      "100%|██████████████████████████████████████████████████████████████████████████████████████████████████| 200000/200000 [00:48<00:00, 4086.42it/s]\n"
     ]
    },
    {
     "name": "stdout",
     "output_type": "stream",
     "text": [
      "Epoch 12: Loss = -972356.4610542607\n"
     ]
    },
    {
     "name": "stderr",
     "output_type": "stream",
     "text": [
      "100%|██████████████████████████████████████████████████████████████████████████████████████████████████| 200000/200000 [00:48<00:00, 4125.05it/s]\n"
     ]
    },
    {
     "name": "stdout",
     "output_type": "stream",
     "text": [
      "Epoch 13: Loss = -971830.6459984569\n"
     ]
    },
    {
     "name": "stderr",
     "output_type": "stream",
     "text": [
      "100%|██████████████████████████████████████████████████████████████████████████████████████████████████| 200000/200000 [00:49<00:00, 4070.00it/s]\n"
     ]
    },
    {
     "name": "stdout",
     "output_type": "stream",
     "text": [
      "Epoch 14: Loss = -971341.9361317153\n"
     ]
    },
    {
     "name": "stderr",
     "output_type": "stream",
     "text": [
      "100%|██████████████████████████████████████████████████████████████████████████████████████████████████| 200000/200000 [00:49<00:00, 4078.43it/s]\n"
     ]
    },
    {
     "name": "stdout",
     "output_type": "stream",
     "text": [
      "Epoch 15: Loss = -970889.5312597103\n"
     ]
    },
    {
     "name": "stderr",
     "output_type": "stream",
     "text": [
      "100%|██████████████████████████████████████████████████████████████████████████████████████████████████| 200000/200000 [00:52<00:00, 3825.41it/s]\n"
     ]
    },
    {
     "name": "stdout",
     "output_type": "stream",
     "text": [
      "Epoch 16: Loss = -970473.0542306425\n"
     ]
    },
    {
     "name": "stderr",
     "output_type": "stream",
     "text": [
      "100%|██████████████████████████████████████████████████████████████████████████████████████████████████| 200000/200000 [00:50<00:00, 3936.14it/s]\n"
     ]
    },
    {
     "name": "stdout",
     "output_type": "stream",
     "text": [
      "Epoch 17: Loss = -970092.0266269651\n"
     ]
    },
    {
     "name": "stderr",
     "output_type": "stream",
     "text": [
      "100%|██████████████████████████████████████████████████████████████████████████████████████████████████| 200000/200000 [00:50<00:00, 3980.28it/s]\n"
     ]
    },
    {
     "name": "stdout",
     "output_type": "stream",
     "text": [
      "Epoch 18: Loss = -969745.6200132985\n"
     ]
    },
    {
     "name": "stderr",
     "output_type": "stream",
     "text": [
      "100%|██████████████████████████████████████████████████████████████████████████████████████████████████| 200000/200000 [00:49<00:00, 4015.08it/s]\n"
     ]
    },
    {
     "name": "stdout",
     "output_type": "stream",
     "text": [
      "Epoch 19: Loss = -969432.5811370678\n"
     ]
    },
    {
     "name": "stderr",
     "output_type": "stream",
     "text": [
      "100%|██████████████████████████████████████████████████████████████████████████████████████████████████| 200000/200000 [00:49<00:00, 4057.16it/s]\n"
     ]
    },
    {
     "name": "stdout",
     "output_type": "stream",
     "text": [
      "Epoch 20: Loss = -969151.2595558033\n"
     ]
    },
    {
     "name": "stderr",
     "output_type": "stream",
     "text": [
      "100%|██████████████████████████████████████████████████████████████████████████████████████████████████| 200000/200000 [00:49<00:00, 4056.72it/s]\n"
     ]
    },
    {
     "name": "stdout",
     "output_type": "stream",
     "text": [
      "Epoch 21: Loss = -968899.6877261136\n"
     ]
    },
    {
     "name": "stderr",
     "output_type": "stream",
     "text": [
      "100%|██████████████████████████████████████████████████████████████████████████████████████████████████| 200000/200000 [00:48<00:00, 4100.32it/s]\n"
     ]
    },
    {
     "name": "stdout",
     "output_type": "stream",
     "text": [
      "Epoch 22: Loss = -968675.6804445904\n"
     ]
    },
    {
     "name": "stderr",
     "output_type": "stream",
     "text": [
      "100%|██████████████████████████████████████████████████████████████████████████████████████████████████| 200000/200000 [00:48<00:00, 4083.69it/s]\n"
     ]
    },
    {
     "name": "stdout",
     "output_type": "stream",
     "text": [
      "Epoch 23: Loss = -968476.9334053277\n"
     ]
    },
    {
     "name": "stderr",
     "output_type": "stream",
     "text": [
      "100%|██████████████████████████████████████████████████████████████████████████████████████████████████| 200000/200000 [00:48<00:00, 4117.96it/s]\n"
     ]
    },
    {
     "name": "stdout",
     "output_type": "stream",
     "text": [
      "Epoch 24: Loss = -968301.1100305108\n"
     ]
    },
    {
     "name": "stderr",
     "output_type": "stream",
     "text": [
      "100%|██████████████████████████████████████████████████████████████████████████████████████████████████| 200000/200000 [00:49<00:00, 4049.01it/s]\n"
     ]
    },
    {
     "name": "stdout",
     "output_type": "stream",
     "text": [
      "Epoch 25: Loss = -968145.9119130482\n"
     ]
    },
    {
     "name": "stderr",
     "output_type": "stream",
     "text": [
      "100%|██████████████████████████████████████████████████████████████████████████████████████████████████| 200000/200000 [00:48<00:00, 4104.30it/s]\n"
     ]
    },
    {
     "name": "stdout",
     "output_type": "stream",
     "text": [
      "Epoch 26: Loss = -968009.1321115723\n"
     ]
    },
    {
     "name": "stderr",
     "output_type": "stream",
     "text": [
      "100%|██████████████████████████████████████████████████████████████████████████████████████████████████| 200000/200000 [00:48<00:00, 4102.61it/s]\n"
     ]
    },
    {
     "name": "stdout",
     "output_type": "stream",
     "text": [
      "Epoch 27: Loss = -967888.6925769388\n"
     ]
    },
    {
     "name": "stderr",
     "output_type": "stream",
     "text": [
      "100%|██████████████████████████████████████████████████████████████████████████████████████████████████| 200000/200000 [00:49<00:00, 4077.61it/s]\n"
     ]
    },
    {
     "name": "stdout",
     "output_type": "stream",
     "text": [
      "Epoch 28: Loss = -967782.6679572058\n"
     ]
    },
    {
     "name": "stderr",
     "output_type": "stream",
     "text": [
      "100%|██████████████████████████████████████████████████████████████████████████████████████████████████| 200000/200000 [00:51<00:00, 3849.35it/s]\n"
     ]
    },
    {
     "name": "stdout",
     "output_type": "stream",
     "text": [
      "Epoch 29: Loss = -967689.2983450391\n"
     ]
    },
    {
     "name": "stderr",
     "output_type": "stream",
     "text": [
      "100%|██████████████████████████████████████████████████████████████████████████████████████████████████| 200000/200000 [00:51<00:00, 3892.59it/s]\n"
     ]
    },
    {
     "name": "stdout",
     "output_type": "stream",
     "text": [
      "Epoch 30: Loss = -967606.9933831802\n"
     ]
    },
    {
     "name": "stderr",
     "output_type": "stream",
     "text": [
      "100%|██████████████████████████████████████████████████████████████████████████████████████████████████| 200000/200000 [00:50<00:00, 3985.19it/s]\n"
     ]
    },
    {
     "name": "stdout",
     "output_type": "stream",
     "text": [
      "Epoch 31: Loss = -967534.3299639896\n"
     ]
    },
    {
     "name": "stderr",
     "output_type": "stream",
     "text": [
      "100%|██████████████████████████████████████████████████████████████████████████████████████████████████| 200000/200000 [00:49<00:00, 4066.26it/s]\n"
     ]
    },
    {
     "name": "stdout",
     "output_type": "stream",
     "text": [
      "Epoch 32: Loss = -967470.0453370017\n"
     ]
    },
    {
     "name": "stderr",
     "output_type": "stream",
     "text": [
      "100%|██████████████████████████████████████████████████████████████████████████████████████████████████| 200000/200000 [00:49<00:00, 4043.02it/s]\n"
     ]
    },
    {
     "name": "stdout",
     "output_type": "stream",
     "text": [
      "Epoch 33: Loss = -967413.0271829985\n"
     ]
    },
    {
     "name": "stderr",
     "output_type": "stream",
     "text": [
      "100%|██████████████████████████████████████████████████████████████████████████████████████████████████| 200000/200000 [00:49<00:00, 4034.96it/s]\n"
     ]
    },
    {
     "name": "stdout",
     "output_type": "stream",
     "text": [
      "Epoch 34: Loss = -967362.3018361407\n"
     ]
    },
    {
     "name": "stderr",
     "output_type": "stream",
     "text": [
      "100%|██████████████████████████████████████████████████████████████████████████████████████████████████| 200000/200000 [00:48<00:00, 4108.20it/s]\n"
     ]
    },
    {
     "name": "stdout",
     "output_type": "stream",
     "text": [
      "Epoch 35: Loss = -967317.0216148414\n"
     ]
    },
    {
     "name": "stderr",
     "output_type": "stream",
     "text": [
      "100%|██████████████████████████████████████████████████████████████████████████████████████████████████| 200000/200000 [00:49<00:00, 4043.99it/s]\n"
     ]
    },
    {
     "name": "stdout",
     "output_type": "stream",
     "text": [
      "Epoch 36: Loss = -967276.4519232953\n"
     ]
    },
    {
     "name": "stderr",
     "output_type": "stream",
     "text": [
      "100%|██████████████████████████████████████████████████████████████████████████████████████████████████| 200000/200000 [00:48<00:00, 4107.48it/s]\n"
     ]
    },
    {
     "name": "stdout",
     "output_type": "stream",
     "text": [
      "Epoch 37: Loss = -967239.9586691115\n"
     ]
    },
    {
     "name": "stderr",
     "output_type": "stream",
     "text": [
      "100%|██████████████████████████████████████████████████████████████████████████████████████████████████| 200000/200000 [00:48<00:00, 4106.51it/s]\n"
     ]
    },
    {
     "name": "stdout",
     "output_type": "stream",
     "text": [
      "Epoch 38: Loss = -967206.996280602\n"
     ]
    },
    {
     "name": "stderr",
     "output_type": "stream",
     "text": [
      "100%|██████████████████████████████████████████████████████████████████████████████████████████████████| 200000/200000 [00:49<00:00, 4063.47it/s]\n"
     ]
    },
    {
     "name": "stdout",
     "output_type": "stream",
     "text": [
      "Epoch 39: Loss = -967177.0965901758\n"
     ]
    },
    {
     "name": "stderr",
     "output_type": "stream",
     "text": [
      "100%|██████████████████████████████████████████████████████████████████████████████████████████████████| 200000/200000 [00:48<00:00, 4100.60it/s]\n"
     ]
    },
    {
     "name": "stdout",
     "output_type": "stream",
     "text": [
      "Epoch 40: Loss = -967149.8586704142\n"
     ]
    },
    {
     "name": "stderr",
     "output_type": "stream",
     "text": [
      "100%|██████████████████████████████████████████████████████████████████████████████████████████████████| 200000/200000 [00:49<00:00, 4080.22it/s]\n"
     ]
    },
    {
     "name": "stdout",
     "output_type": "stream",
     "text": [
      "Epoch 41: Loss = -967124.9396851378\n"
     ]
    },
    {
     "name": "stderr",
     "output_type": "stream",
     "text": [
      "100%|██████████████████████████████████████████████████████████████████████████████████████████████████| 200000/200000 [00:49<00:00, 4077.30it/s]\n"
     ]
    },
    {
     "name": "stdout",
     "output_type": "stream",
     "text": [
      "Epoch 42: Loss = -967102.0467488857\n"
     ]
    },
    {
     "name": "stderr",
     "output_type": "stream",
     "text": [
      "100%|██████████████████████████████████████████████████████████████████████████████████████████████████| 200000/200000 [00:48<00:00, 4089.94it/s]\n"
     ]
    },
    {
     "name": "stdout",
     "output_type": "stream",
     "text": [
      "Epoch 43: Loss = -967080.9297492715\n"
     ]
    },
    {
     "name": "stderr",
     "output_type": "stream",
     "text": [
      "100%|██████████████████████████████████████████████████████████████████████████████████████████████████| 200000/200000 [00:48<00:00, 4121.84it/s]\n"
     ]
    },
    {
     "name": "stdout",
     "output_type": "stream",
     "text": [
      "Epoch 44: Loss = -967061.3750726797\n"
     ]
    },
    {
     "name": "stderr",
     "output_type": "stream",
     "text": [
      "100%|██████████████████████████████████████████████████████████████████████████████████████████████████| 200000/200000 [00:49<00:00, 4076.47it/s]\n"
     ]
    },
    {
     "name": "stdout",
     "output_type": "stream",
     "text": [
      "Epoch 45: Loss = -967043.2001695875\n"
     ]
    },
    {
     "name": "stderr",
     "output_type": "stream",
     "text": [
      "100%|██████████████████████████████████████████████████████████████████████████████████████████████████| 200000/200000 [00:49<00:00, 4051.27it/s]\n"
     ]
    },
    {
     "name": "stdout",
     "output_type": "stream",
     "text": [
      "Epoch 46: Loss = -967026.2488624505\n"
     ]
    },
    {
     "name": "stderr",
     "output_type": "stream",
     "text": [
      "100%|██████████████████████████████████████████████████████████████████████████████████████████████████| 200000/200000 [00:48<00:00, 4122.24it/s]\n"
     ]
    },
    {
     "name": "stdout",
     "output_type": "stream",
     "text": [
      "Epoch 47: Loss = -967010.3873225492\n"
     ]
    },
    {
     "name": "stderr",
     "output_type": "stream",
     "text": [
      "100%|██████████████████████████████████████████████████████████████████████████████████████████████████| 200000/200000 [00:49<00:00, 4003.30it/s]\n"
     ]
    },
    {
     "name": "stdout",
     "output_type": "stream",
     "text": [
      "Epoch 48: Loss = -966995.5006339517\n"
     ]
    },
    {
     "name": "stderr",
     "output_type": "stream",
     "text": [
      "100%|██████████████████████████████████████████████████████████████████████████████████████████████████| 200000/200000 [00:49<00:00, 4075.98it/s]\n"
     ]
    },
    {
     "name": "stdout",
     "output_type": "stream",
     "text": [
      "Epoch 49: Loss = -966981.4898812075\n"
     ]
    },
    {
     "name": "stderr",
     "output_type": "stream",
     "text": [
      "100%|██████████████████████████████████████████████████████████████████████████████████████████████████| 200000/200000 [00:48<00:00, 4095.90it/s]\n"
     ]
    },
    {
     "name": "stdout",
     "output_type": "stream",
     "text": [
      "Epoch 50: Loss = -966968.2696644842\n"
     ]
    },
    {
     "name": "stderr",
     "output_type": "stream",
     "text": [
      "100%|██████████████████████████████████████████████████████████████████████████████████████████████████| 200000/200000 [00:49<00:00, 4066.04it/s]\n"
     ]
    },
    {
     "name": "stdout",
     "output_type": "stream",
     "text": [
      "Epoch 51: Loss = -966955.7660221335\n"
     ]
    },
    {
     "name": "stderr",
     "output_type": "stream",
     "text": [
      "100%|██████████████████████████████████████████████████████████████████████████████████████████████████| 200000/200000 [00:48<00:00, 4084.55it/s]\n"
     ]
    },
    {
     "name": "stdout",
     "output_type": "stream",
     "text": [
      "Epoch 52: Loss = -966943.9146512506\n"
     ]
    },
    {
     "name": "stderr",
     "output_type": "stream",
     "text": [
      "100%|██████████████████████████████████████████████████████████████████████████████████████████████████| 200000/200000 [00:49<00:00, 4079.78it/s]\n"
     ]
    },
    {
     "name": "stdout",
     "output_type": "stream",
     "text": [
      "Epoch 53: Loss = -966932.6594409931\n"
     ]
    },
    {
     "name": "stderr",
     "output_type": "stream",
     "text": [
      "100%|██████████████████████████████████████████████████████████████████████████████████████████████████| 200000/200000 [00:48<00:00, 4092.20it/s]\n"
     ]
    },
    {
     "name": "stdout",
     "output_type": "stream",
     "text": [
      "Epoch 54: Loss = -966921.951218016\n"
     ]
    },
    {
     "name": "stderr",
     "output_type": "stream",
     "text": [
      "100%|██████████████████████████████████████████████████████████████████████████████████████████████████| 200000/200000 [00:48<00:00, 4117.29it/s]\n"
     ]
    },
    {
     "name": "stdout",
     "output_type": "stream",
     "text": [
      "Epoch 55: Loss = -966911.7467057296\n"
     ]
    },
    {
     "name": "stderr",
     "output_type": "stream",
     "text": [
      "100%|██████████████████████████████████████████████████████████████████████████████████████████████████| 200000/200000 [00:49<00:00, 4057.39it/s]\n"
     ]
    },
    {
     "name": "stdout",
     "output_type": "stream",
     "text": [
      "Epoch 56: Loss = -966902.0076443128\n"
     ]
    },
    {
     "name": "stderr",
     "output_type": "stream",
     "text": [
      "100%|██████████████████████████████████████████████████████████████████████████████████████████████████| 200000/200000 [00:51<00:00, 3863.10it/s]\n"
     ]
    },
    {
     "name": "stdout",
     "output_type": "stream",
     "text": [
      "Epoch 57: Loss = -966892.7000552866\n"
     ]
    },
    {
     "name": "stderr",
     "output_type": "stream",
     "text": [
      "100%|██████████████████████████████████████████████████████████████████████████████████████████████████| 200000/200000 [00:51<00:00, 3894.15it/s]\n"
     ]
    },
    {
     "name": "stdout",
     "output_type": "stream",
     "text": [
      "Epoch 58: Loss = -966883.7936347142\n"
     ]
    },
    {
     "name": "stderr",
     "output_type": "stream",
     "text": [
      "100%|██████████████████████████████████████████████████████████████████████████████████████████████████| 200000/200000 [00:49<00:00, 4005.42it/s]\n"
     ]
    },
    {
     "name": "stdout",
     "output_type": "stream",
     "text": [
      "Epoch 59: Loss = -966875.2612200544\n"
     ]
    },
    {
     "name": "stderr",
     "output_type": "stream",
     "text": [
      "100%|██████████████████████████████████████████████████████████████████████████████████████████████████| 200000/200000 [00:49<00:00, 4051.99it/s]\n"
     ]
    },
    {
     "name": "stdout",
     "output_type": "stream",
     "text": [
      "Epoch 60: Loss = -966867.0783762316\n"
     ]
    },
    {
     "name": "stderr",
     "output_type": "stream",
     "text": [
      "100%|██████████████████████████████████████████████████████████████████████████████████████████████████| 200000/200000 [00:49<00:00, 4017.44it/s]\n"
     ]
    },
    {
     "name": "stdout",
     "output_type": "stream",
     "text": [
      "Epoch 61: Loss = -966859.2230152888\n"
     ]
    },
    {
     "name": "stderr",
     "output_type": "stream",
     "text": [
      "100%|██████████████████████████████████████████████████████████████████████████████████████████████████| 200000/200000 [00:48<00:00, 4087.95it/s]\n"
     ]
    },
    {
     "name": "stdout",
     "output_type": "stream",
     "text": [
      "Epoch 62: Loss = -966851.6750959138\n"
     ]
    },
    {
     "name": "stderr",
     "output_type": "stream",
     "text": [
      "100%|██████████████████████████████████████████████████████████████████████████████████████████████████| 200000/200000 [00:49<00:00, 4080.29it/s]\n"
     ]
    },
    {
     "name": "stdout",
     "output_type": "stream",
     "text": [
      "Epoch 63: Loss = -966844.4163635576\n"
     ]
    },
    {
     "name": "stderr",
     "output_type": "stream",
     "text": [
      "100%|██████████████████████████████████████████████████████████████████████████████████████████████████| 200000/200000 [00:48<00:00, 4119.27it/s]\n"
     ]
    },
    {
     "name": "stdout",
     "output_type": "stream",
     "text": [
      "Epoch 64: Loss = -966837.4301360287\n"
     ]
    },
    {
     "name": "stderr",
     "output_type": "stream",
     "text": [
      "100%|██████████████████████████████████████████████████████████████████████████████████████████████████| 200000/200000 [00:49<00:00, 4076.08it/s]\n"
     ]
    },
    {
     "name": "stdout",
     "output_type": "stream",
     "text": [
      "Epoch 65: Loss = -966830.7011054022\n"
     ]
    },
    {
     "name": "stderr",
     "output_type": "stream",
     "text": [
      "100%|██████████████████████████████████████████████████████████████████████████████████████████████████| 200000/200000 [00:49<00:00, 4050.73it/s]\n"
     ]
    },
    {
     "name": "stdout",
     "output_type": "stream",
     "text": [
      "Epoch 66: Loss = -966824.2151923124\n"
     ]
    },
    {
     "name": "stderr",
     "output_type": "stream",
     "text": [
      "100%|██████████████████████████████████████████████████████████████████████████████████████████████████| 200000/200000 [00:48<00:00, 4113.96it/s]\n"
     ]
    },
    {
     "name": "stdout",
     "output_type": "stream",
     "text": [
      "Epoch 67: Loss = -966817.9594040678\n"
     ]
    },
    {
     "name": "stderr",
     "output_type": "stream",
     "text": [
      "100%|██████████████████████████████████████████████████████████████████████████████████████████████████| 200000/200000 [00:49<00:00, 4048.10it/s]\n"
     ]
    },
    {
     "name": "stdout",
     "output_type": "stream",
     "text": [
      "Epoch 68: Loss = -966811.9217206221\n"
     ]
    },
    {
     "name": "stderr",
     "output_type": "stream",
     "text": [
      "100%|██████████████████████████████████████████████████████████████████████████████████████████████████| 200000/200000 [00:48<00:00, 4107.27it/s]\n"
     ]
    },
    {
     "name": "stdout",
     "output_type": "stream",
     "text": [
      "Epoch 69: Loss = -966806.0909924855\n"
     ]
    },
    {
     "name": "stderr",
     "output_type": "stream",
     "text": [
      "100%|██████████████████████████████████████████████████████████████████████████████████████████████████| 200000/200000 [00:48<00:00, 4099.74it/s]\n"
     ]
    },
    {
     "name": "stdout",
     "output_type": "stream",
     "text": [
      "Epoch 70: Loss = -966800.4568581664\n"
     ]
    },
    {
     "name": "stderr",
     "output_type": "stream",
     "text": [
      "100%|██████████████████████████████████████████████████████████████████████████████████████████████████| 200000/200000 [00:49<00:00, 4076.16it/s]\n"
     ]
    },
    {
     "name": "stdout",
     "output_type": "stream",
     "text": [
      "Epoch 71: Loss = -966795.0096649851\n"
     ]
    },
    {
     "name": "stderr",
     "output_type": "stream",
     "text": [
      "100%|██████████████████████████████████████████████████████████████████████████████████████████████████| 200000/200000 [00:49<00:00, 4071.88it/s]\n"
     ]
    },
    {
     "name": "stdout",
     "output_type": "stream",
     "text": [
      "Epoch 72: Loss = -966789.7404058288\n"
     ]
    },
    {
     "name": "stderr",
     "output_type": "stream",
     "text": [
      "100%|██████████████████████████████████████████████████████████████████████████████████████████████████| 200000/200000 [00:49<00:00, 4056.13it/s]\n"
     ]
    },
    {
     "name": "stdout",
     "output_type": "stream",
     "text": [
      "Epoch 73: Loss = -966784.6406607651\n"
     ]
    },
    {
     "name": "stderr",
     "output_type": "stream",
     "text": [
      "100%|██████████████████████████████████████████████████████████████████████████████████████████████████| 200000/200000 [00:50<00:00, 3995.00it/s]\n"
     ]
    },
    {
     "name": "stdout",
     "output_type": "stream",
     "text": [
      "Epoch 74: Loss = -966779.7025471176\n"
     ]
    },
    {
     "name": "stderr",
     "output_type": "stream",
     "text": [
      "100%|██████████████████████████████████████████████████████████████████████████████████████████████████| 200000/200000 [00:50<00:00, 3978.87it/s]\n"
     ]
    },
    {
     "name": "stdout",
     "output_type": "stream",
     "text": [
      "Epoch 75: Loss = -966774.9186720775\n"
     ]
    },
    {
     "name": "stderr",
     "output_type": "stream",
     "text": [
      "100%|██████████████████████████████████████████████████████████████████████████████████████████████████| 200000/200000 [00:49<00:00, 4066.05it/s]\n"
     ]
    },
    {
     "name": "stdout",
     "output_type": "stream",
     "text": [
      "Epoch 76: Loss = -966770.2820952308\n"
     ]
    },
    {
     "name": "stderr",
     "output_type": "stream",
     "text": [
      "100%|██████████████████████████████████████████████████████████████████████████████████████████████████| 200000/200000 [00:48<00:00, 4081.66it/s]\n"
     ]
    },
    {
     "name": "stdout",
     "output_type": "stream",
     "text": [
      "Epoch 77: Loss = -966765.7862933371\n"
     ]
    },
    {
     "name": "stderr",
     "output_type": "stream",
     "text": [
      "100%|██████████████████████████████████████████████████████████████████████████████████████████████████| 200000/200000 [00:49<00:00, 4073.35it/s]\n"
     ]
    },
    {
     "name": "stdout",
     "output_type": "stream",
     "text": [
      "Epoch 78: Loss = -966761.4251241622\n"
     ]
    },
    {
     "name": "stderr",
     "output_type": "stream",
     "text": [
      "100%|██████████████████████████████████████████████████████████████████████████████████████████████████| 200000/200000 [00:49<00:00, 4080.52it/s]\n"
     ]
    },
    {
     "name": "stdout",
     "output_type": "stream",
     "text": [
      "Epoch 79: Loss = -966757.192803644\n"
     ]
    },
    {
     "name": "stderr",
     "output_type": "stream",
     "text": [
      "100%|██████████████████████████████████████████████████████████████████████████████████████████████████| 200000/200000 [00:48<00:00, 4081.75it/s]\n"
     ]
    },
    {
     "name": "stdout",
     "output_type": "stream",
     "text": [
      "Epoch 80: Loss = -966753.0838731953\n"
     ]
    },
    {
     "name": "stderr",
     "output_type": "stream",
     "text": [
      "100%|██████████████████████████████████████████████████████████████████████████████████████████████████| 200000/200000 [00:48<00:00, 4097.21it/s]\n"
     ]
    },
    {
     "name": "stdout",
     "output_type": "stream",
     "text": [
      "Epoch 81: Loss = -966749.0931835077\n"
     ]
    },
    {
     "name": "stderr",
     "output_type": "stream",
     "text": [
      "100%|██████████████████████████████████████████████████████████████████████████████████████████████████| 200000/200000 [00:48<00:00, 4104.34it/s]\n"
     ]
    },
    {
     "name": "stdout",
     "output_type": "stream",
     "text": [
      "Epoch 82: Loss = -966745.2158645979\n"
     ]
    },
    {
     "name": "stderr",
     "output_type": "stream",
     "text": [
      "100%|██████████████████████████████████████████████████████████████████████████████████████████████████| 200000/200000 [00:49<00:00, 4051.93it/s]\n"
     ]
    },
    {
     "name": "stdout",
     "output_type": "stream",
     "text": [
      "Epoch 83: Loss = -966741.4473147423\n"
     ]
    },
    {
     "name": "stderr",
     "output_type": "stream",
     "text": [
      "100%|██████████████████████████████████████████████████████████████████████████████████████████████████| 200000/200000 [00:48<00:00, 4113.51it/s]\n"
     ]
    },
    {
     "name": "stdout",
     "output_type": "stream",
     "text": [
      "Epoch 84: Loss = -966737.7831757672\n"
     ]
    },
    {
     "name": "stderr",
     "output_type": "stream",
     "text": [
      "100%|██████████████████████████████████████████████████████████████████████████████████████████████████| 200000/200000 [00:50<00:00, 3987.58it/s]\n"
     ]
    },
    {
     "name": "stdout",
     "output_type": "stream",
     "text": [
      "Epoch 85: Loss = -966734.2193198993\n"
     ]
    },
    {
     "name": "stderr",
     "output_type": "stream",
     "text": [
      "100%|██████████████████████████████████████████████████████████████████████████████████████████████████| 200000/200000 [00:49<00:00, 4001.93it/s]\n"
     ]
    },
    {
     "name": "stdout",
     "output_type": "stream",
     "text": [
      "Epoch 86: Loss = -966730.7518353564\n"
     ]
    },
    {
     "name": "stderr",
     "output_type": "stream",
     "text": [
      "100%|██████████████████████████████████████████████████████████████████████████████████████████████████| 200000/200000 [00:49<00:00, 4028.41it/s]\n"
     ]
    },
    {
     "name": "stdout",
     "output_type": "stream",
     "text": [
      "Epoch 87: Loss = -966727.3770108395\n"
     ]
    },
    {
     "name": "stderr",
     "output_type": "stream",
     "text": [
      "100%|██████████████████████████████████████████████████████████████████████████████████████████████████| 200000/200000 [00:48<00:00, 4087.22it/s]\n"
     ]
    },
    {
     "name": "stdout",
     "output_type": "stream",
     "text": [
      "Epoch 88: Loss = -966724.0913214459\n"
     ]
    },
    {
     "name": "stderr",
     "output_type": "stream",
     "text": [
      "100%|██████████████████████████████████████████████████████████████████████████████████████████████████| 200000/200000 [00:49<00:00, 4069.30it/s]\n"
     ]
    },
    {
     "name": "stdout",
     "output_type": "stream",
     "text": [
      "Epoch 89: Loss = -966720.8914186254\n"
     ]
    },
    {
     "name": "stderr",
     "output_type": "stream",
     "text": [
      "100%|██████████████████████████████████████████████████████████████████████████████████████████████████| 200000/200000 [00:49<00:00, 4077.30it/s]\n"
     ]
    },
    {
     "name": "stdout",
     "output_type": "stream",
     "text": [
      "Epoch 90: Loss = -966717.7741231048\n"
     ]
    },
    {
     "name": "stderr",
     "output_type": "stream",
     "text": [
      "100%|██████████████████████████████████████████████████████████████████████████████████████████████████| 200000/200000 [00:48<00:00, 4096.64it/s]\n"
     ]
    },
    {
     "name": "stdout",
     "output_type": "stream",
     "text": [
      "Epoch 91: Loss = -966714.7364042236\n"
     ]
    },
    {
     "name": "stderr",
     "output_type": "stream",
     "text": [
      "100%|██████████████████████████████████████████████████████████████████████████████████████████████████| 200000/200000 [00:49<00:00, 4067.81it/s]\n"
     ]
    },
    {
     "name": "stdout",
     "output_type": "stream",
     "text": [
      "Epoch 92: Loss = -966711.775384894\n"
     ]
    },
    {
     "name": "stderr",
     "output_type": "stream",
     "text": [
      "100%|██████████████████████████████████████████████████████████████████████████████████████████████████| 200000/200000 [00:48<00:00, 4115.64it/s]\n"
     ]
    },
    {
     "name": "stdout",
     "output_type": "stream",
     "text": [
      "Epoch 93: Loss = -966708.888318525\n"
     ]
    },
    {
     "name": "stderr",
     "output_type": "stream",
     "text": [
      "100%|██████████████████████████████████████████████████████████████████████████████████████████████████| 200000/200000 [00:48<00:00, 4089.52it/s]\n"
     ]
    },
    {
     "name": "stdout",
     "output_type": "stream",
     "text": [
      "Epoch 94: Loss = -966706.0725891542\n"
     ]
    },
    {
     "name": "stderr",
     "output_type": "stream",
     "text": [
      "100%|██████████████████████████████████████████████████████████████████████████████████████████████████| 200000/200000 [00:50<00:00, 3976.20it/s]\n"
     ]
    },
    {
     "name": "stdout",
     "output_type": "stream",
     "text": [
      "Epoch 95: Loss = -966703.3257046313\n"
     ]
    },
    {
     "name": "stderr",
     "output_type": "stream",
     "text": [
      "100%|██████████████████████████████████████████████████████████████████████████████████████████████████| 200000/200000 [00:50<00:00, 3962.29it/s]\n"
     ]
    },
    {
     "name": "stdout",
     "output_type": "stream",
     "text": [
      "Epoch 96: Loss = -966700.6452864613\n"
     ]
    },
    {
     "name": "stderr",
     "output_type": "stream",
     "text": [
      "100%|██████████████████████████████████████████████████████████████████████████████████████████████████| 200000/200000 [00:49<00:00, 4069.34it/s]\n"
     ]
    },
    {
     "name": "stdout",
     "output_type": "stream",
     "text": [
      "Epoch 97: Loss = -966698.0290603966\n"
     ]
    },
    {
     "name": "stderr",
     "output_type": "stream",
     "text": [
      "100%|██████████████████████████████████████████████████████████████████████████████████████████████████| 200000/200000 [00:49<00:00, 4028.07it/s]\n"
     ]
    },
    {
     "name": "stdout",
     "output_type": "stream",
     "text": [
      "Epoch 98: Loss = -966695.4748595859\n"
     ]
    },
    {
     "name": "stderr",
     "output_type": "stream",
     "text": [
      "100%|██████████████████████████████████████████████████████████████████████████████████████████████████| 200000/200000 [00:48<00:00, 4083.12it/s]\n"
     ]
    },
    {
     "name": "stdout",
     "output_type": "stream",
     "text": [
      "Epoch 99: Loss = -966692.9806113153\n"
     ]
    },
    {
     "name": "stderr",
     "output_type": "stream",
     "text": [
      "wandb: Network error (ReadTimeout), entering retry loop.\n"
     ]
    }
   ],
   "source": [
    "wandb.init(\n",
    "        # set the wandb project where this run will be logged\n",
    "    project='Snorkel-Repro', name='Data-200k-epochs-1000-m-5-alpham-betam-off-lre-5'\n",
    "\n",
    "        # track hyperparameters and run metadata\n",
    "        # config={\n",
    "        # \"learning_rate\": 0.02,\n",
    "        # \"architecture\": \"CNN\",\n",
    "        # \"dataset\": \"CIFAR-100\",\n",
    "        # \"epochs\": 20,\n",
    "        # }\n",
    ")\n",
    "\n",
    "device = torch.device(\"cuda:0\" if torch.cuda.is_available() else \"cpu\")\n",
    "model = LabelModel()\n",
    "\n",
    "    \n",
    "optimizer = torch.optim.SGD(model.parameters(), lr=0.00001)\n",
    "\n",
    "num_epochs = 100\n",
    "\n",
    "for epoch in range(num_epochs):\n",
    "    \n",
    "    initial_loss = 0\n",
    "    optimizer.zero_grad()\n",
    "    \n",
    "    for data_sample, lf_outputs in tqdm(data_loader):\n",
    "        \n",
    "#         lf_outputs = [par.to(device) for par in lf_outputs]\n",
    "        \n",
    "        marginal_prob = model(lf_outputs, true_label=1) + model(lf_outputs, true_label=-1)\n",
    "        log_marginal_prob = torch.log(marginal_prob)\n",
    "        initial_loss = initial_loss + log_marginal_prob\n",
    "        \n",
    "        \n",
    "\n",
    "        \n",
    "#         break\n",
    "    \n",
    "    initial_loss = -initial_loss\n",
    "    initial_loss.backward()\n",
    "    optimizer.step()\n",
    "    \n",
    "    if epoch % 1 == 0:\n",
    "        print(f\"Epoch {epoch}: Loss = {-initial_loss.item()}\")\n",
    "        \n",
    "        for param in model.parameters():\n",
    "            tensor_dict = {f'Params/tensor_{i}_{j}': torch.sigmoid(param[i, j]).item() for i in range(param.size(0)) for j in range(param.size(1))}\n",
    "            wandb.log({\"Prob/Prob\":-initial_loss.item()})\n",
    "            wandb.log(tensor_dict)\n",
    "#             print(torch.sigmoid(param),flush=True)\n",
    "\n",
    "        \n"
   ]
  },
  {
   "cell_type": "code",
   "execution_count": null,
   "id": "a70ec93d",
   "metadata": {},
   "outputs": [],
   "source": []
  },
  {
   "cell_type": "code",
   "execution_count": null,
   "id": "33b48db6",
   "metadata": {},
   "outputs": [],
   "source": []
  }
 ],
 "metadata": {
  "kernelspec": {
   "display_name": "Python 3 (ipykernel)",
   "language": "python",
   "name": "python3"
  },
  "language_info": {
   "codemirror_mode": {
    "name": "ipython",
    "version": 3
   },
   "file_extension": ".py",
   "mimetype": "text/x-python",
   "name": "python",
   "nbconvert_exporter": "python",
   "pygments_lexer": "ipython3",
   "version": "3.7.13"
  }
 },
 "nbformat": 4,
 "nbformat_minor": 5
}
