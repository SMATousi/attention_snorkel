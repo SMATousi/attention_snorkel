{
 "cells": [
  {
   "cell_type": "code",
   "execution_count": 17,
   "id": "76743028",
   "metadata": {},
   "outputs": [],
   "source": [
    "import numpy as np\n",
    "from sklearn.datasets import make_classification\n",
    "import matplotlib.pyplot as plt\n",
    "import torch\n",
    "from tqdm import tqdm"
   ]
  },
  {
   "cell_type": "markdown",
   "id": "4082e2ae",
   "metadata": {},
   "source": [
    "# Creating Data"
   ]
  },
  {
   "cell_type": "code",
   "execution_count": 46,
   "id": "18561a29",
   "metadata": {},
   "outputs": [],
   "source": [
    "\n",
    "np.random.seed(42)\n",
    "\n",
    "\n",
    "X, y = make_classification(n_samples=2000000, n_features=3, n_informative=3, n_redundant=0,\n",
    "                           n_clusters_per_class=1, weights=[0.5, 0.5], flip_y=0.05, class_sep=1.5)\n",
    "y = 2*y - 1\n",
    "\n",
    "# fig = plt.figure(figsize=(8, 6))\n",
    "# ax = fig.add_subplot(111, projection='3d')\n",
    "\n",
    "\n",
    "# ax.scatter(X[y == -1][:, 0], X[y == -1][:, 1], X[y == -1][:, 2], c='b', marker='o', label='Class -1')\n",
    "# ax.scatter(X[y == 1][:, 0], X[y == 1][:, 1], X[y == 1][:, 2], c='r', marker='^', label='Class 1')\n",
    "\n",
    "# ax.set_xlabel('Feature 1')\n",
    "# ax.set_ylabel('Feature 2')\n",
    "# ax.set_zlabel('Feature 3')\n",
    "# ax.set_title('3D Scatter Plot of Synthetic Data')\n",
    "# ax.legend()\n",
    "\n",
    "# plt.show()"
   ]
  },
  {
   "cell_type": "markdown",
   "id": "f5a2a4bb",
   "metadata": {},
   "source": [
    "# LFs generator"
   ]
  },
  {
   "cell_type": "code",
   "execution_count": 37,
   "id": "3d862e6a",
   "metadata": {},
   "outputs": [],
   "source": [
    "def random_label_flip_and_zero(arr, m, n_list, zero_n_list):\n",
    "\n",
    "    if len(n_list) != m or len(zero_n_list) != m:\n",
    "        raise ValueError(\"The length of n_list and zero_n_list must be equal to m.\")\n",
    "    \n",
    "    length = len(arr)\n",
    "    flipped_arrays = []\n",
    "\n",
    "    for i in range(m):\n",
    "        n = n_list[i]\n",
    "        zero_n = zero_n_list[i]\n",
    "\n",
    "        # Randomly select indices to flip\n",
    "        indices_to_zero = np.random.choice(length, zero_n, replace=False)\n",
    "\n",
    "        # Create a copy of the array to flip the labels\n",
    "        modified_arr = arr.copy()\n",
    "        modified_arr[indices_to_zero] = 0\n",
    "\n",
    "        # Identify the untouched indices\n",
    "        untouched_indices = np.setdiff1d(np.arange(length), indices_to_zero)\n",
    "\n",
    "        # Randomly select indices from the untouched indices to set to 0\n",
    "        indices_to_flip = np.random.choice(untouched_indices, n, replace=False)\n",
    "\n",
    "        # Set the chosen indices to 0\n",
    "        modified_arr[indices_to_flip] = -modified_arr[indices_to_flip]\n",
    "\n",
    "        flipped_arrays.append(modified_arr)\n",
    "\n",
    "    return flipped_arrays"
   ]
  },
  {
   "cell_type": "code",
   "execution_count": 47,
   "id": "98c23c80",
   "metadata": {},
   "outputs": [],
   "source": [
    "arr = y\n",
    "\n",
    "m = 5  # Number of random selections\n",
    "n_list = [5, 10, 15, 20, 25]  # Different number of indices to flip for each selection\n",
    "zero_n_list = [20, 40, 60, 80, 10]  # Different number of indices to set to 0 for each selection\n",
    "flipped_arrays = random_label_flip_and_zero(arr, m, n_list, zero_n_list)\n",
    "\n",
    "\n",
    "# print(\"Original = \", arr)\n",
    "ALL_LFs = {}\n",
    "\n",
    "for i, modified_arr in enumerate(flipped_arrays):\n",
    "#     print(f\"Array {i+1}:\")\n",
    "#     print(modified_arr-arr)\n",
    "    lf_dict = {}\n",
    "    \n",
    "    lf_dict['alpha'] = 1 - (n_list[i]/(len(y) - zero_n_list[i]))\n",
    "    lf_dict['beta'] = 1 - (zero_n_list[i]/len(y))\n",
    "    \n",
    "    lf_dict['outputs'] = modified_arr\n",
    "    \n",
    "    ALL_LFs[i] = lf_dict"
   ]
  },
  {
   "cell_type": "code",
   "execution_count": 48,
   "id": "f4003293",
   "metadata": {},
   "outputs": [
    {
     "data": {
      "text/plain": [
       "{0: {'alpha': 0.9999974999749998,\n",
       "  'beta': 0.99999,\n",
       "  'outputs': array([-1, -1, -1, ...,  1, -1, -1])},\n",
       " 1: {'alpha': 0.999994999899998,\n",
       "  'beta': 0.99998,\n",
       "  'outputs': array([-1, -1, -1, ...,  1, -1, -1])},\n",
       " 2: {'alpha': 0.9999924997749933,\n",
       "  'beta': 0.99997,\n",
       "  'outputs': array([-1, -1, -1, ...,  1, -1, -1])},\n",
       " 3: {'alpha': 0.999989999599984,\n",
       "  'beta': 0.99996,\n",
       "  'outputs': array([-1, -1, -1, ...,  1, -1, -1])},\n",
       " 4: {'alpha': 0.9999874999374997,\n",
       "  'beta': 0.999995,\n",
       "  'outputs': array([-1, -1, -1, ...,  1, -1, -1])}}"
      ]
     },
     "execution_count": 48,
     "metadata": {},
     "output_type": "execute_result"
    }
   ],
   "source": [
    "ALL_LFs"
   ]
  },
  {
   "cell_type": "markdown",
   "id": "9d5bcc66",
   "metadata": {},
   "source": [
    "# Expected Value for alpha and beta"
   ]
  },
  {
   "cell_type": "code",
   "execution_count": 57,
   "id": "d4197eee",
   "metadata": {},
   "outputs": [
    {
     "name": "stdout",
     "output_type": "stream",
     "text": [
      "minimum cardinality =  1589098.3705628957\n",
      "current cardinality =  2000000\n",
      "Check!\n"
     ]
    }
   ],
   "source": [
    "m = 5\n",
    "epsilon = 0.03\n",
    "s_cardinality = len(y)\n",
    "\n",
    "minimum_cardinality = (356/(epsilon)**2) * np.log(m/(3*epsilon))\n",
    "\n",
    "print(\"minimum cardinality = \", minimum_cardinality)\n",
    "print(\"current cardinality = \", s_cardinality)\n",
    "if s_cardinality > minimum_cardinality:\n",
    "    print(\"Check!\")\n",
    "else:\n",
    "    print(\"More data needed ...\")"
   ]
  },
  {
   "cell_type": "code",
   "execution_count": null,
   "id": "64294536",
   "metadata": {},
   "outputs": [],
   "source": []
  }
 ],
 "metadata": {
  "kernelspec": {
   "display_name": "Python 3 (ipykernel)",
   "language": "python",
   "name": "python3"
  },
  "language_info": {
   "codemirror_mode": {
    "name": "ipython",
    "version": 3
   },
   "file_extension": ".py",
   "mimetype": "text/x-python",
   "name": "python",
   "nbconvert_exporter": "python",
   "pygments_lexer": "ipython3",
   "version": "3.7.13"
  }
 },
 "nbformat": 4,
 "nbformat_minor": 5
}
